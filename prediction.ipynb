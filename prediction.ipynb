{
 "cells": [
  {
   "cell_type": "code",
   "execution_count": 2,
   "metadata": {},
   "outputs": [],
   "source": [
    "from joblib import load\n",
    "import cv2\n",
    "import numpy as np"
   ]
  },
  {
   "cell_type": "code",
   "execution_count": 6,
   "metadata": {},
   "outputs": [
    {
     "name": "stderr",
     "output_type": "stream",
     "text": [
      "c:\\Users\\moham\\AppData\\Local\\Programs\\Python\\Python310\\lib\\site-packages\\scipy\\__init__.py:146: UserWarning: A NumPy version >=1.17.3 and <1.25.0 is required for this version of SciPy (detected version 1.25.2\n",
      "  warnings.warn(f\"A NumPy version >={np_minversion} and <{np_maxversion}\"\n"
     ]
    }
   ],
   "source": [
    "emotion_dict = {0: \"Angry\", 1: \"Disgusted\", 2: \"Fearful\", 3: \"Happy\", 4: \"Neutral\", 5: \"Sad\", 6: \"Surprised\"}\n",
    "model = load('model/emotion_model.joblib')"
   ]
  },
  {
   "cell_type": "code",
   "execution_count": 19,
   "metadata": {},
   "outputs": [
    {
     "name": "stdout",
     "output_type": "stream",
     "text": [
      "1/1 [==============================] - 5s 5s/step\n",
      "Happy\n"
     ]
    }
   ],
   "source": [
    "##### prediction\n",
    "\n",
    "# Load the image\n",
    "image_path = 'cropped_face.jpg'\n",
    "image = cv2.imread(image_path)\n",
    "\n",
    "# Preprocess the image\n",
    "gray_image = cv2.cvtColor(image, cv2.COLOR_BGR2GRAY)\n",
    "roi_gray = cv2.resize(gray_image, (48, 48))\n",
    "roi_gray = np.expand_dims(np.expand_dims(roi_gray, -1), 0)\n",
    "\n",
    "# Predict the emotion\n",
    "emotion_prediction = model.predict(roi_gray)\n",
    "max_index = int(np.argmax(emotion_prediction))\n",
    "\n",
    "# Get the predicted emotion label\n",
    "predicted_emotion = emotion_dict[max_index]\n",
    "\n",
    "# Display the emotion label\n",
    "print(predicted_emotion)"
   ]
  },
  {
   "cell_type": "code",
   "execution_count": 17,
   "metadata": {},
   "outputs": [],
   "source": [
    "#### prendre une photo\n",
    "\n",
    "# Charger le classifieur de visage pré-entrainé\n",
    "face_cascade = cv2.CascadeClassifier(cv2.data.haarcascades + 'haarcascade_frontalface_default.xml')\n",
    "\n",
    "# Ouvrir la caméra\n",
    "cap = cv2.VideoCapture(0)\n",
    "\n",
    "while True:\n",
    "    # Lire une image depuis la caméra\n",
    "    ret, frame = cap.read()\n",
    "    \n",
    "    # Convertir l'image en niveaux de gris (facilite la détection de visages)\n",
    "    gray = cv2.cvtColor(frame, cv2.COLOR_BGR2GRAY)\n",
    "    \n",
    "    # Détecter les visages dans l'image\n",
    "    faces = face_cascade.detectMultiScale(gray, scaleFactor=1.1, minNeighbors=5, minSize=(30, 30))\n",
    "    \n",
    "    # Dessiner des rectangles autour des visages détectés\n",
    "    for (x, y, w, h) in faces:\n",
    "        cv2.rectangle(frame, (x, y), (x+w, y+h), (0, 255, 0), 2)\n",
    "    \n",
    "    # Afficher l'image avec les visages détectés\n",
    "    cv2.imshow('Face Detection', frame)\n",
    "    \n",
    "    # Capturer une image lorsque la touche 's' est pressée\n",
    "    if cv2.waitKey(1) & 0xFF == ord('s'):\n",
    "        cv2.imwrite('face_image.png', frame)\n",
    "        break\n",
    "\n",
    "\n",
    "# Libérer la caméra et détruire toutes les fenêtres OpenCV\n",
    "cap.release()\n",
    "cv2.destroyAllWindows()"
   ]
  },
  {
   "cell_type": "code",
   "execution_count": 18,
   "metadata": {},
   "outputs": [
    {
     "name": "stdout",
     "output_type": "stream",
     "text": [
      "Cropped face saved as 'cropped_face.jpg'\n"
     ]
    }
   ],
   "source": [
    "#### découpe face\n",
    "\n",
    "# Load the pre-trained Haar Cascade Classifier for face detection\n",
    "face_cascade = cv2.CascadeClassifier(cv2.data.haarcascades + 'haarcascade_frontalface_default.xml')\n",
    "\n",
    "# Load the input image\n",
    "input_image_path = 'face_image.png'\n",
    "input_image = cv2.imread(input_image_path)\n",
    "\n",
    "# Convert the input image to grayscale\n",
    "gray_image = cv2.cvtColor(input_image, cv2.COLOR_BGR2GRAY)\n",
    "\n",
    "# Detect faces in the grayscale image\n",
    "faces = face_cascade.detectMultiScale(gray_image, scaleFactor=1.1, minNeighbors=5, minSize=(30, 30))\n",
    "\n",
    "if len(faces) > 0:\n",
    "    # If one or more faces are detected, iterate over them and crop\n",
    "    for (x, y, w, h) in faces:\n",
    "        # Crop the region containing the detected face\n",
    "        cropped_face = input_image[y:y+h, x:x+w]\n",
    "        \n",
    "        # Save the cropped face as a separate image\n",
    "        cv2.imwrite('cropped_face.jpg', cropped_face)\n",
    "        print(\"Cropped face saved as 'cropped_face.jpg'\")\n",
    "else:\n",
    "    print(\"No face found.\")"
   ]
  }
 ],
 "metadata": {
  "kernelspec": {
   "display_name": "Python 3",
   "language": "python",
   "name": "python3"
  },
  "language_info": {
   "codemirror_mode": {
    "name": "ipython",
    "version": 3
   },
   "file_extension": ".py",
   "mimetype": "text/x-python",
   "name": "python",
   "nbconvert_exporter": "python",
   "pygments_lexer": "ipython3",
   "version": "3.10.7"
  }
 },
 "nbformat": 4,
 "nbformat_minor": 2
}
